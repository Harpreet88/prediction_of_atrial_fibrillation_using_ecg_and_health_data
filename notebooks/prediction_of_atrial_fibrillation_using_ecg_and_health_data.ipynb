{
 "cells": [
  {
   "cell_type": "markdown",
   "id": "b7140047-3ea8-4e53-9403-741be4a55ad4",
   "metadata": {},
   "source": [
    "# Prediction of New Onset Atrial Fibrillation Using Routinely Reported 12-Lead ECG Variables and Electronic Health Data\n",
    "\n",
    "## Table of Contents\n",
    "\n",
    "- Data Dictionary"
   ]
  },
  {
   "cell_type": "code",
   "execution_count": 4,
   "id": "51d5a315-580c-44d1-b833-c9e5c6681cfb",
   "metadata": {
    "tags": []
   },
   "outputs": [],
   "source": [
    "import pandas as pd"
   ]
  },
  {
   "cell_type": "markdown",
   "id": "ce127324-7822-4306-84c0-d464859dca81",
   "metadata": {},
   "source": [
    "## Data Dictionary"
   ]
  },
  {
   "cell_type": "code",
   "execution_count": null,
   "id": "aa31c59a-2bd3-4332-9450-148708487c8b",
   "metadata": {},
   "outputs": [],
   "source": [
    "data_dictionary_df = pd.read_csv(../data/data_dictionary.csv)\n",
    "data_dictionary_df.head()"
   ]
  }
 ],
 "metadata": {
  "kernelspec": {
   "display_name": "Python 3 (ipykernel)",
   "language": "python",
   "name": "python3"
  },
  "language_info": {
   "codemirror_mode": {
    "name": "ipython",
    "version": 3
   },
   "file_extension": ".py",
   "mimetype": "text/x-python",
   "name": "python",
   "nbconvert_exporter": "python",
   "pygments_lexer": "ipython3",
   "version": "3.11.5"
  }
 },
 "nbformat": 4,
 "nbformat_minor": 5
}
